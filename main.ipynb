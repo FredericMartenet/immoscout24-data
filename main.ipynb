{
 "cells": [
  {
   "cell_type": "markdown",
   "id": "1ca5fd3f",
   "metadata": {},
   "source": [
    "# Importing Real Estate Data from immoscout24.ch"
   ]
  },
  {
   "cell_type": "markdown",
   "id": "1a5615fa",
   "metadata": {},
   "source": [
    "This notebook contains code that can pull data on real estate prices, number of rooms and square meters for listings on the Swiss website immoscout24.ch for a desired Swiss state. "
   ]
  },
  {
   "cell_type": "code",
   "execution_count": 1,
   "id": "803b22d3",
   "metadata": {
    "scrolled": true
   },
   "outputs": [],
   "source": [
    "import pandas as pd\n",
    "import matplotlib.pyplot as plt\n",
    "import numpy as np\n",
    "import re\n",
    "import requests\n",
    "from bs4 import BeautifulSoup"
   ]
  },
  {
   "cell_type": "markdown",
   "id": "c2b5aaa6",
   "metadata": {},
   "source": [
    "Specify the state for which to scrap real estate data from and the total number of pages."
   ]
  },
  {
   "cell_type": "code",
   "execution_count": 2,
   "id": "15cf3371",
   "metadata": {
    "scrolled": true
   },
   "outputs": [],
   "source": [
    "state = \"aargau\"\n",
    "ptot = 42"
   ]
  },
  {
   "cell_type": "markdown",
   "id": "2b2d6b76",
   "metadata": {},
   "source": [
    "Set the url for the first page of results for the desired state"
   ]
  },
  {
   "cell_type": "code",
   "execution_count": 3,
   "id": "34b49cbd",
   "metadata": {},
   "outputs": [],
   "source": [
    "URL = f\"https://www.immoscout24.ch/en/real-estate/buy/canton-{state}\""
   ]
  },
  {
   "cell_type": "markdown",
   "id": "d5345d83",
   "metadata": {},
   "source": [
    "Create function that reads the html page and store relevant information"
   ]
  },
  {
   "cell_type": "code",
   "execution_count": 4,
   "id": "148ee210",
   "metadata": {
    "scrolled": true
   },
   "outputs": [],
   "source": [
    "def soup_from_state(URL):\n",
    "    \"\"\"Return soup element from url\"\"\"\n",
    "    page = requests.get(URL)  \n",
    "    soup = BeautifulSoup(page.content, \"html.parser\")  \n",
    "    return soup\n",
    "    \n",
    "def add_data(\n",
    "    data, \n",
    "    soup,\n",
    "    tag=\"h3\",\n",
    "    class_=\"Box-cYFBPY edGgnU Heading-dlrjyy bVzSiN\",\n",
    "):\n",
    "    \"\"\"Find all prices in the html and store in DataFrame \"\"\"\n",
    "    \n",
    "    # Find all info in the <span> within the <tag> of class \"class\"\n",
    "    job_elements = soup.find_all(tag, class_=class_)\n",
    "\n",
    "    for job_element in job_elements:\n",
    "        \n",
    "        # Price in CHF\n",
    "        if job_element.span.text[0] != 'P':\n",
    "            # convert price in format \"CHF x,xxx,xxx.-\"\" to float\n",
    "            price = float(re.search(\n",
    "                'CHF ([0-9,]*\\.[0-9]*)', job_element.span.text).group(1).replace(',', ''))\n",
    "        else:\n",
    "            price = np.nan\n",
    "        \n",
    "        # Number of rooms and square meters\n",
    "        if ('rooms' not in job_element.text) and ('m²' in job_element.text):\n",
    "            rooms = np.nan\n",
    "            m2 = re.split(' rooms,| m²', job_element.text)[0]\n",
    "        elif 'rooms' and 'm²' in job_element.text:\n",
    "            rooms = re.split(' rooms,| m²', job_element.text)[0]\n",
    "            m2 = re.split(' rooms,| m²', job_element.text)[1]\n",
    "        elif ('rooms' in job_element.text) and ('m²' not in job_element.text):\n",
    "            rooms = re.split(' rooms', job_element.text)[0]\n",
    "            m2 = np.nan\n",
    "        else:\n",
    "            rooms, m2 = np.nan, np.nan\n",
    "        \n",
    "        # Store in data\n",
    "        data = data.append(\n",
    "            pd.DataFrame([price, rooms, m2], index=['price', 'rooms', 'm2']).T\n",
    "        )\n",
    "        \n",
    "    return data"
   ]
  },
  {
   "cell_type": "markdown",
   "id": "ce3033f9",
   "metadata": {},
   "source": [
    "Create empty dataset"
   ]
  },
  {
   "cell_type": "code",
   "execution_count": 5,
   "id": "1bc72aa4",
   "metadata": {
    "scrolled": true
   },
   "outputs": [],
   "source": [
    "data = pd.DataFrame(\n",
    "    columns=['price', 'rooms', 'm2']\n",
    ")"
   ]
  },
  {
   "cell_type": "markdown",
   "id": "b9a67de7",
   "metadata": {},
   "source": [
    "Import the web page in html format and parse"
   ]
  },
  {
   "cell_type": "code",
   "execution_count": 6,
   "id": "b5281d2d",
   "metadata": {
    "scrolled": true
   },
   "outputs": [],
   "source": [
    "soup = soup_from_state(URL)\n",
    "data = add_data(data, soup)"
   ]
  },
  {
   "cell_type": "markdown",
   "id": "bbc3fc1d",
   "metadata": {},
   "source": [
    "Do it for all pages "
   ]
  },
  {
   "cell_type": "code",
   "execution_count": 7,
   "id": "1ff57f36",
   "metadata": {},
   "outputs": [
    {
     "name": "stdout",
     "output_type": "stream",
     "text": [
      "Page 10/42\n",
      "Page 20/42\n",
      "Page 30/42\n",
      "Page 40/42\n"
     ]
    }
   ],
   "source": [
    "for pagenb in range(1, ptot+1, 1):\n",
    "    if not pagenb%10: \n",
    "        print(f'Page {pagenb}/{ptot}')\n",
    "    soup = soup_from_state(URL + '?pn=' + str(pagenb))\n",
    "    data = add_data(data, soup)  # Store data of next page"
   ]
  },
  {
   "cell_type": "markdown",
   "id": "481ea78a",
   "metadata": {},
   "source": [
    "Summary statistics on prices"
   ]
  },
  {
   "cell_type": "code",
   "execution_count": 8,
   "id": "564a4c6e",
   "metadata": {
    "scrolled": true
   },
   "outputs": [
    {
     "name": "stdout",
     "output_type": "stream",
     "text": [
      "N:      939\n",
      "Mean:   987500\n",
      "Median: 870000\n",
      "Min:    195000\n",
      "Max:    4395000\n",
      "Std:    492877\n"
     ]
    }
   ],
   "source": [
    "print(f\"N:      {float(data['price'].count()):.0f}\")\n",
    "print(f\"Mean:   {float(data['price'].mean()):.0f}\")\n",
    "print(f\"Median: {float(data['price'].median()):.0f}\")\n",
    "print(f\"Min:    {float(data['price'].min()):.0f}\")\n",
    "print(f\"Max:    {float(data['price'].max()):.0f}\")\n",
    "print(f\"Std:    {float(data['price'].std()):.0f}\")"
   ]
  },
  {
   "cell_type": "markdown",
   "id": "3ee685c2",
   "metadata": {},
   "source": [
    "Visualize distribution of prices"
   ]
  },
  {
   "cell_type": "code",
   "execution_count": 9,
   "id": "f138fc4b",
   "metadata": {
    "scrolled": false
   },
   "outputs": [
    {
     "data": {
      "image/png": "[encoded data removed]",
      "text/plain": [
       "<Figure size 432x288 with 1 Axes>"
      ]
     },
     "metadata": {
      "needs_background": "light"
     },
     "output_type": "display_data"
    }
   ],
   "source": [
    "plt.hist(data['price']/1e6, bins=50)\n",
    "plt.xlabel('Milions CHF')\n",
    "plt.xlim(0, 5)\n",
    "plt.show()"
   ]
  },
  {
   "cell_type": "code",
   "execution_count": null,
   "id": "56a5b951",
   "metadata": {
    "scrolled": true
   },
   "outputs": [],
   "source": []
  }
 ],
 "metadata": {
  "kernelspec": {
   "display_name": "Python 3 (ipykernel)",
   "language": "python",
   "name": "python3"
  },
  "language_info": {
   "codemirror_mode": {
    "name": "ipython",
    "version": 3
   },
   "file_extension": ".py",
   "mimetype": "text/x-python",
   "name": "python",
   "nbconvert_exporter": "python",
   "pygments_lexer": "ipython3",
   "version": "3.9.7"
  }
 },
 "nbformat": 4,
 "nbformat_minor": 5
}
